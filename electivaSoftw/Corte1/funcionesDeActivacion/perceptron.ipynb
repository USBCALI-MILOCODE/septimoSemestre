{
 "cells": [
  {
   "cell_type": "code",
   "execution_count": 1,
   "metadata": {},
   "outputs": [],
   "source": [
    "import numpy as np\n",
    "import matplotlib.pyplot as plt\n",
    "\n",
    "# Definir las funciones de activación\n",
    "# Función de activación (escalón)\n",
    "def step_function(x):\n",
    "    return np.where(x >= 0, 1, 0)\n",
    "\n",
    "# Función para hacer predicciones (output)\n",
    "def perceptron_predict(x, weights):\n",
    "    return step_function(np.dot(x, weights[1:]) + weights[0])\n",
    "\n",
    "# Algoritmo de Perceptrón\n",
    "def perceptron_train(X, y, learning_rate=0.1, epochs=10):\n",
    "    # Inicializar los pesos (uno más por el bias)\n",
    "    weights = np.random.rand(X.shape[1] + 1) # np.zeros(X.shape[1] + 1)\n",
    "\n",
    "    #vector de errores\n",
    "    errors = []\n",
    "\n",
    "    #Entrenamiento\n",
    "    for _ in range(epochs):\n",
    "        total_error = 0\n",
    "        for xi, target in zip(X, y):\n",
    "            # Calcular la salida (predicción)\n",
    "            output = perceptron_predict(xi, weights) #step_function(np.dot(xi, weights[1:]) + weights[0])\n",
    "            # Calcular error absoluto\n",
    "            error = target - output\n",
    "            total_error += abs(error)\n",
    "            # Actualizar los pesos\n",
    "            update = learning_rate * (target - output)\n",
    "            weights[1:] += update * xi\n",
    "            weights[0] += update\n",
    "        errors.append(total_error)\n",
    "    return weights, errors\n",
    "\n",
    "\n"
   ]
  }
 ],
 "metadata": {
  "kernelspec": {
   "display_name": "Python 3",
   "language": "python",
   "name": "python3"
  },
  "language_info": {
   "codemirror_mode": {
    "name": "ipython",
    "version": 3
   },
   "file_extension": ".py",
   "mimetype": "text/x-python",
   "name": "python",
   "nbconvert_exporter": "python",
   "pygments_lexer": "ipython3",
   "version": "3.12.2"
  }
 },
 "nbformat": 4,
 "nbformat_minor": 2
}
